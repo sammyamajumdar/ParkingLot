{
 "cells": [
  {
   "cell_type": "markdown",
   "metadata": {},
   "source": [
    "## Parking Lot Project\n",
    "\n",
    "*ParkedVehicle* class takes 5 parameters :  \n",
    "\n",
    "**vehicleSeq** : takes an integer value, an unique identification number for each vehicle.  \n",
    "**fourWheeler** : takes a boolean value to determine if the parked car is a four wheeler or not.   \n",
    "**parkedFor** : takes an integer value, denotes number of hours the car is parked for.   \n",
    "**valetParking** : takes a boolean value, denotes whether the owner used Valet Parking or not.  \n",
    "**parkedStatus** : takes a boolean value, denotes if the car is parked or not.  \n",
    "\n",
    "*ParkingLot* class initialises a Python dictionary to store the list of ParkedVehicle objects. It has 5 methods as shown below:  \n",
    "1. **add_to_parking_lot** adds a new car to the parking lot by storing the ParkedVehicle object in the parked_vehicles dictionary.  \n",
    "2. **parking_charge** calculates the total cost of the parking for the entire duration a vehicle object has been parked. It followes the follwing rule while calculating the cost:  \n",
    "if a car is a Four Wheeler, then the rate is 50 INR      \n",
    "if a car is a Two Wheerler, then the rate is 30 INR.  \n",
    "if the owner used a valet to park his car, it adds 10 INR to the base price, otherwise the base price is the final price.  \n",
    "\n",
    "3. **get_parking_catalog** returns the dictionary which contains all the lot numbers of the parked cars.    \n",
    "4. **change_parked_status** changes the status of the vehicle object from True to False and vice versa. It takes the vehicle object as a parameter.    \n",
    "5. **get_parked_status** returns a boolean value denoting whether the vehicle is parked or not. It takes the vehicle object as a parameter.   \n"
   ]
  },
  {
   "cell_type": "code",
   "execution_count": 78,
   "metadata": {},
   "outputs": [],
   "source": [
    "class ParkedVehicle:\n",
    "    def __init__(self, vehicleSeq, fourWheeler, parkedFor, valetParking, parkedStatus):\n",
    "        self.vehicleSeq = vehicleSeq\n",
    "        self.fourWheeler = fourWheeler\n",
    "        self.parkedFor = parkedFor\n",
    "        self.valetParking = valetParking\n",
    "        self.parkedStatus = parkedStatus\n",
    "class ParkingLot:\n",
    "    def __init__(self):\n",
    "        self.parked_vehicles = {}\n",
    "    def add_to_parkingLot(self, vehicle, lot_number):\n",
    "        if lot_number not in self.parked_vehicles:\n",
    "            self.parked_vehicles[lot_number] = vehicle\n",
    "            print(\"car successfully parked!\")\n",
    "        else:\n",
    "            print(\"Parking Lot not empty!\")\n",
    "    def ParkingCharge(self, vehicle, lot_number):\n",
    "        if vehicle.parkedStatus is False:\n",
    "            print(\"Car is not found!\")\n",
    "        else:\n",
    "            if vehicle.fourWheeler:\n",
    "                basePrice = 50 * int(vehicle.parkedFor)\n",
    "            else:\n",
    "                basePrice = 30 * int(vehicle.parkedFor)\n",
    "            if vehicle.valetParking:\n",
    "                basePrice += 10\n",
    "            return basePrice\n",
    "    def get_parking_catalog(self):\n",
    "        return self.parked_vehicles\n",
    "    def change_parked_status(self, vehicle):\n",
    "        if vehicle.parkedStatus:\n",
    "            vehicle.parkedStatus = False\n",
    "        else:\n",
    "            vehicle.parkedStatus = True\n",
    "    def get_parked_status(self, vehicle):\n",
    "        return vehicle.parkedStatus\n",
    "    \n",
    "    \n",
    "#Code contributed by Sammya Majumdar."
   ]
  },
  {
   "cell_type": "code",
   "execution_count": null,
   "metadata": {},
   "outputs": [],
   "source": []
  }
 ],
 "metadata": {
  "kernelspec": {
   "display_name": "Python 3",
   "language": "python",
   "name": "python3"
  },
  "language_info": {
   "codemirror_mode": {
    "name": "ipython",
    "version": 3
   },
   "file_extension": ".py",
   "mimetype": "text/x-python",
   "name": "python",
   "nbconvert_exporter": "python",
   "pygments_lexer": "ipython3",
   "version": "3.7.6"
  }
 },
 "nbformat": 4,
 "nbformat_minor": 4
}
